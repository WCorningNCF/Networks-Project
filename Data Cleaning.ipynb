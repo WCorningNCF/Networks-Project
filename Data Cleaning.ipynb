{
 "cells": [
  {
   "cell_type": "code",
   "execution_count": 65,
   "metadata": {
    "collapsed": false
   },
   "outputs": [],
   "source": [
    "import json\n",
    "from collections import Counter\n",
    "import numpy as np"
   ]
  },
  {
   "cell_type": "code",
   "execution_count": 35,
   "metadata": {
    "collapsed": true
   },
   "outputs": [],
   "source": [
    "def easyRead(fname):\n",
    "    fp = open(fname)\n",
    "    contents = json.load(fp)\n",
    "    fp.close()\n",
    "    return contents"
   ]
  },
  {
   "cell_type": "code",
   "execution_count": 36,
   "metadata": {
    "collapsed": false
   },
   "outputs": [],
   "source": [
    "httpRecords = easyRead('httpRecords.txt')"
   ]
  },
  {
   "cell_type": "code",
   "execution_count": 37,
   "metadata": {
    "collapsed": true
   },
   "outputs": [],
   "source": [
    "dynCatalog = easyRead('scripts.txt')"
   ]
  },
  {
   "cell_type": "code",
   "execution_count": 38,
   "metadata": {
    "collapsed": false
   },
   "outputs": [],
   "source": [
    "requests = [r for r in httpRecords if r['messageType'] == 'Request']\n",
    "responses = [r for r in httpRecords if r['messageType'] == 'Response']"
   ]
  },
  {
   "cell_type": "code",
   "execution_count": 40,
   "metadata": {
    "collapsed": false
   },
   "outputs": [
    {
     "data": {
      "text/plain": [
       "{u'URI': u'http://www.washingtonpost.com/',\n",
       " u'host': u'www.washingtonpost.com',\n",
       " u'path': u'/'}"
      ]
     },
     "execution_count": 40,
     "metadata": {},
     "output_type": "execute_result"
    }
   ],
   "source": [
    "requests[0]['location']"
   ]
  },
  {
   "cell_type": "code",
   "execution_count": 44,
   "metadata": {
    "collapsed": false
   },
   "outputs": [],
   "source": [
    "URIs = [r['location']['URI'] for r in responses]\n",
    "hosts = [r['location']['host'] for r in responses]"
   ]
  },
  {
   "cell_type": "code",
   "execution_count": 45,
   "metadata": {
    "collapsed": true
   },
   "outputs": [],
   "source": [
    "hostCounts = Counter()\n",
    "for host in hosts:\n",
    "    hostCounts[host]+=1"
   ]
  },
  {
   "cell_type": "code",
   "execution_count": 47,
   "metadata": {
    "collapsed": true
   },
   "outputs": [],
   "source": [
    "hostDataSize = Counter()"
   ]
  },
  {
   "cell_type": "code",
   "execution_count": 60,
   "metadata": {
    "collapsed": false
   },
   "outputs": [],
   "source": [
    "has=['Content-Length' in r['headers'] for r in responses]"
   ]
  },
  {
   "cell_type": "code",
   "execution_count": 62,
   "metadata": {
    "collapsed": false
   },
   "outputs": [],
   "source": [
    "for r in responses:\n",
    "    if 'Content-Length' in r['headers']:\n",
    "        hostDataSize[r['location']['host']]+=int(r['headers']['Content-Length'])"
   ]
  },
  {
   "cell_type": "code",
   "execution_count": 67,
   "metadata": {
    "collapsed": false
   },
   "outputs": [],
   "source": [
    "order = np.argsort(hostDataSize.values())"
   ]
  },
  {
   "cell_type": "code",
   "execution_count": 72,
   "metadata": {
    "collapsed": false
   },
   "outputs": [],
   "source": [
    "test = np.array([[k,hostDataSize[k]] for k in hostDataSize])"
   ]
  },
  {
   "cell_type": "code",
   "execution_count": 74,
   "metadata": {
    "collapsed": false
   },
   "outputs": [
    {
     "data": {
      "text/plain": [
       "array([[u'loadm.exelator.com', u'0'],\n",
       "       [u'ib.adnxs.com', u'0'],\n",
       "       [u's.tagsrvcs.com', u'0'],\n",
       "       [u'pixel-a.sitescout.com', u'0'],\n",
       "       [u'search.spotxchange.com', u'0'],\n",
       "       [u'x.bidswitch.net', u'0'],\n",
       "       [u't4.liverail.com', u'0'],\n",
       "       [u'ak1s.abmr.net', u'0'],\n",
       "       [u'pix.btrll.com', u'0'],\n",
       "       [u'beacon.krxd.net', u'0'],\n",
       "       [u'rumds.wpdigital.net', u'1'],\n",
       "       [u'aax.amazon-adsystem.com', u'8'],\n",
       "       [u'pentos-cdn.polarmobile.com', u'9'],\n",
       "       [u'request-information-api.ext.nile.works', u'27'],\n",
       "       [u'cdn-static-secure.liverail.com', u'35'],\n",
       "       [u'tag.researchnow.com', u'42'],\n",
       "       [u'ping.chartbeat.net', u'43'],\n",
       "       [u'load.s3.amazonaws.com', u'43'],\n",
       "       [u'd.agkn.com', u'43'],\n",
       "       [u'ads.kiosked.com', u'43'],\n",
       "       [u'smetrics.washingtonpost.com', u'43'],\n",
       "       [u'spotxchange-a.akamaihd.net', u'43'],\n",
       "       [u'cdn-api.arcpublishing.com', u'60'],\n",
       "       [u'loxodo-datapoint-producer-test.arc.nile.works', u'80'],\n",
       "       [u'pixel.rubiconproject.com', u'84'],\n",
       "       [u'ad.360yield.com', u'86'],\n",
       "       [u'dsum-sec.casalemedia.com', u'86'],\n",
       "       [u'cs.adingo.jp', u'86'],\n",
       "       [u'us-u.openx.net', u'86'],\n",
       "       [u's.amazon-adsystem.com', u'107'],\n",
       "       [u'googleads.g.doubleclick.net', u'145'],\n",
       "       [u'rtax.criteo.com', u'167'],\n",
       "       [u'sync.mathtag.com', u'172'],\n",
       "       [u'pwapi.washingtonpost.com', u'199'],\n",
       "       [u'www.google.com', u'246'],\n",
       "       [u'stags.bluekai.com', u'248'],\n",
       "       [u'cm.g.doubleclick.net', u'700'],\n",
       "       [u'angsrvr-656962.c.cdn77.org', u'799'],\n",
       "       [u'aus4.mozilla.org', u'800'],\n",
       "       [u'ad.sxp.smartclip.net', u'803'],\n",
       "       [u'ocsp.comodoca.com', u'943'],\n",
       "       [u'sb.scorecardresearch.com', u'1140'],\n",
       "       [u'clients1.google.com', u'1389'],\n",
       "       [u'gu.symcd.com', u'1428'],\n",
       "       [u'pubads.g.doubleclick.net', u'1509'],\n",
       "       [u'ocsp.startssl.com', u'1613'],\n",
       "       [u'sd.symcd.com', u'1729'],\n",
       "       [u'ocsp.digicert.com', u'1884'],\n",
       "       [u'www.gstatic.com', u'2449'],\n",
       "       [u'tj.symcd.com', u'2828'],\n",
       "       [u'ocsp2.globalsign.com', u'2990'],\n",
       "       [u'vassg141.ocsp.omniroot.com', u'3540'],\n",
       "       [u's.effectivemeasure.net', u'3790'],\n",
       "       [u'c.amazon-adsystem.com', u'4756'],\n",
       "       [u'ocsp.godaddy.com', u'5362'],\n",
       "       [u'me-ssl.effectivemeasure.net', u'5436'],\n",
       "       [u'gv.symcd.com', u'5588'],\n",
       "       [u'gn.symcd.com', u'5676'],\n",
       "       [u's1.2mdn.net', u'5908'],\n",
       "       [u'ad.doubleclick.net', u'5914'],\n",
       "       [u'ss.symcd.com', u'6436'],\n",
       "       [u'images.washingtonpost.com', u'8456'],\n",
       "       [u'pixel.mathtag.com', u'8469'],\n",
       "       [u'vassg142.ocsp.omniroot.com', u'8850'],\n",
       "       [u'static.chartbeat.com', u'11425'],\n",
       "       [u'css.washingtonpost.com', u'12097'],\n",
       "       [u'ocsp.entrust.net', u'16272'],\n",
       "       [u'meraxes-cdn.polarmobile.com', u'31958'],\n",
       "       [u'ox-d.washingtonpost.servedbyopenx.com', u'37355'],\n",
       "       [u'partner.googleadservices.com', u'50756'],\n",
       "       [u'securepubads.g.doubleclick.net', u'54620'],\n",
       "       [u'z.moatads.com', u'96318'],\n",
       "       [u'pagead2.googlesyndication.com', u'98166'],\n",
       "       [u'plugin.mediavoice.com', u'98425'],\n",
       "       [u'tpc.googlesyndication.com', u'100716'],\n",
       "       [u'js.washingtonpost.com', u'101395'],\n",
       "       [u'img.washingtonpost.com', u'143162'],\n",
       "       [u'www.washingtonpost.com', u'885833'],\n",
       "       [u'ciscobinary.openh264.org', u'972830']], \n",
       "      dtype='<U45')"
      ]
     },
     "execution_count": 74,
     "metadata": {},
     "output_type": "execute_result"
    }
   ],
   "source": [
    "test[order]"
   ]
  },
  {
   "cell_type": "code",
   "execution_count": 7,
   "metadata": {
    "collapsed": false
   },
   "outputs": [],
   "source": [
    "for r in responses:\n",
    "    if 'Server' in r['headers']:\n",
    "        serverTypes[r['headers']['Server']] += 1"
   ]
  },
  {
   "cell_type": "code",
   "execution_count": 8,
   "metadata": {
    "collapsed": false
   },
   "outputs": [
    {
     "data": {
      "text/plain": [
       "{u'headers': {u'Accept': u'*/*',\n",
       "  u'Accept-Encoding': u'gzip, deflate',\n",
       "  u'Accept-Language': u'en-US,en;q=0.5',\n",
       "  u'Host': u'z.moatads.com',\n",
       "  u'Referer': u'https://www.washingtonpost.com/',\n",
       "  u'User-Agent': u'Mozilla/5.0 (X11; Ubuntu; Linux x86_64; rv:40.0) Gecko/20100101 Firefox/40.0'},\n",
       " u'messageType': u'Request',\n",
       " u'timeNumeric': 1448230622407,\n",
       " u'timeString': u'17:17:2.407',\n",
       " u'uri': u'https://z.moatads.com/washpost421KqtH31/moatcontent.js?loyalty_bsg=1&avgsestime_bsg=0&firstimp_bsg=1&referral_bsg='}"
      ]
     },
     "execution_count": 8,
     "metadata": {},
     "output_type": "execute_result"
    }
   ],
   "source": [
    "requests[100]"
   ]
  },
  {
   "cell_type": "code",
   "execution_count": 9,
   "metadata": {
    "collapsed": false
   },
   "outputs": [
    {
     "data": {
      "text/plain": [
       "{u'headers': {u'Accept-Ranges': u'bytes',\n",
       "  u'Cache-Control': u'max-age=498605',\n",
       "  u'Content-Length': u'471',\n",
       "  u'Content-Type': u'application/ocsp-response',\n",
       "  u'Date': u'Sun, 22 Nov 2015 22:16:59 GMT',\n",
       "  u'Etag': u'\"5651beeb-1d7\"',\n",
       "  u'Expires': u'Sun, 29 Nov 2015 10:16:59 GMT',\n",
       "  u'Last-Modified': u'Sun, 22 Nov 2015 13:11:07 GMT',\n",
       "  u'Server': u'ECS (mia/1779)',\n",
       "  u'X-Cache': u'HIT'},\n",
       " u'messageType': u'Response',\n",
       " u'timeNumeric': 1448230619460,\n",
       " u'timeString': u'17:16:59.460',\n",
       " u'uri': u'http://ocsp.digicert.com/'}"
      ]
     },
     "execution_count": 9,
     "metadata": {},
     "output_type": "execute_result"
    }
   ],
   "source": [
    "responses[0]"
   ]
  }
 ],
 "metadata": {
  "kernelspec": {
   "display_name": "Python 2",
   "language": "python",
   "name": "python2"
  },
  "language_info": {
   "codemirror_mode": {
    "name": "ipython",
    "version": 2
   },
   "file_extension": ".py",
   "mimetype": "text/x-python",
   "name": "python",
   "nbconvert_exporter": "python",
   "pygments_lexer": "ipython2",
   "version": "2.7.9"
  }
 },
 "nbformat": 4,
 "nbformat_minor": 0
}
